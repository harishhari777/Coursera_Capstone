{
  "cells": [
    {
      "metadata": {
        "_uuid": "de174843f62ca2dd87ef8b42f90acebfcf27fe5b"
      },
      "cell_type": "markdown",
      "source": "# Scraping Wikipedia for neighbourhood data\nIn this notebook we'll utilize BeautifulSoup to scrape a table from a Wikipedia page.\nThe scraped data will then be transformed into a pandas DataFrame."
    },
    {
      "metadata": {
        "_uuid": "8f2839f25d086af736a60e9eeb907d3b93b6e0e5",
        "_cell_guid": "b1076dfc-b9ad-4769-8c92-a6c4dae69d19",
        "trusted": true
      },
      "cell_type": "code",
      "source": "import numpy as np # linear algebra\nimport pandas as pd # data processing, CSV file I/O (e.g. pd.read_csv)\nfrom bs4 import BeautifulSoup # web scraping library\nimport requests # library for grabbing html pages",
      "execution_count": 1,
      "outputs": []
    },
    {
      "metadata": {
        "_uuid": "256dcd2f4fef3cf4fba76dec426c7b444c577b8c"
      },
      "cell_type": "markdown",
      "source": "## Data acquisition and processing\nUsing the requests.get('site_link').text we grab the html code for the page.\n\nUsing this data and some BeautifulSoup magic we can extract data from the table on the page."
    },
    {
      "metadata": {
        "_cell_guid": "79c7e3d0-c299-4dcb-8224-4455121ee9b0",
        "_uuid": "d629ff2d2480ee46fbb7e2d37f6b5fab8052498a",
        "trusted": true
      },
      "cell_type": "code",
      "source": "scrape_target = 'https://en.wikipedia.org/wiki/List_of_postal_codes_of_Canada:_M'\nwebsite_html = requests.get(scrape_target).text\nprint(website_html[:154])",
      "execution_count": 12,
      "outputs": [
        {
          "output_type": "stream",
          "text": "<!DOCTYPE html>\n<html class=\"client-nojs\" lang=\"en\" dir=\"ltr\">\n<head>\n<meta charset=\"UTF-8\"/>\n<title>List of postal codes of Canada: M - Wikipedia</title>\n",
          "name": "stdout"
        }
      ]
    },
    {
      "metadata": {
        "_uuid": "be21e83a091702c2fdbbafe6be1a9ffcfc81959a"
      },
      "cell_type": "markdown",
      "source": "BeautifulSoup parses the html page and builds a heirerchical data structure for programattically parsing web pages."
    },
    {
      "metadata": {
        "trusted": true,
        "_uuid": "80c86ba0b157f32e75e67a236a62e1a680f9f73f"
      },
      "cell_type": "code",
      "source": "soup = BeautifulSoup(website_html, 'lxml')\nprint(soup.prettify()[:166])",
      "execution_count": 21,
      "outputs": [
        {
          "output_type": "stream",
          "text": "<!DOCTYPE html>\n<html class=\"client-nojs\" dir=\"ltr\" lang=\"en\">\n <head>\n  <meta charset=\"utf-8\"/>\n  <title>\n   List of postal codes of Canada: M - Wikipedia\n  </title>\n",
          "name": "stdout"
        }
      ]
    },
    {
      "metadata": {
        "_uuid": "3da8552619cf8f47daf82cb781c5241649570128"
      },
      "cell_type": "markdown",
      "source": "Next, let's use the find() and findAll() methods of the BeautifulSoup class object to extract the table and it's elements."
    },
    {
      "metadata": {
        "trusted": true,
        "_uuid": "7db0b72629dfd61f789bdf8edc85c3f0f62dec6f"
      },
      "cell_type": "code",
      "source": "postcode_table = soup.find('table', {'class': 'wikitable sortable'})\ntable_elements = postcode_table.findAll('td')\nprint(table_elements[:10])",
      "execution_count": 23,
      "outputs": [
        {
          "output_type": "stream",
          "text": "[<td>M1A</td>, <td>Not assigned</td>, <td>Not assigned\n</td>, <td>M2A</td>, <td>Not assigned</td>, <td>Not assigned\n</td>, <td>M3A</td>, <td><a href=\"/wiki/North_York\" title=\"North York\">North York</a></td>, <td><a href=\"/wiki/Parkwoods\" title=\"Parkwoods\">Parkwoods</a>\n</td>, <td>M4A</td>]\n",
          "name": "stdout"
        }
      ]
    },
    {
      "metadata": {
        "_uuid": "547323a538681c9f281d05daf3d9ba8ead7634a1"
      },
      "cell_type": "markdown",
      "source": "Using the above code, we get a list of values in \"td\" tags. \n\nComparing this list to the original html code, we gather that every 3 objects in the list reperesent a single line in the table.\n\nConsequently, we'll split the list into a list of lists, where each sub-list is a line in the table."
    },
    {
      "metadata": {
        "trusted": true,
        "_uuid": "c958176717e9dc7d80147b99e07383e5006b5591"
      },
      "cell_type": "code",
      "source": "split_table_elements = [[table_elements[i], table_elements[i+1], table_elements[i+2]] for i in range(0, len(table_elements), 3)]\nprint(split_table_elements[:3])",
      "execution_count": 26,
      "outputs": [
        {
          "output_type": "stream",
          "text": "[[<td>M1A</td>, <td>Not assigned</td>, <td>Not assigned\n</td>], [<td>M2A</td>, <td>Not assigned</td>, <td>Not assigned\n</td>], [<td>M3A</td>, <td><a href=\"/wiki/North_York\" title=\"North York\">North York</a></td>, <td><a href=\"/wiki/Parkwoods\" title=\"Parkwoods\">Parkwoods</a>\n</td>]]\n",
          "name": "stdout"
        }
      ]
    },
    {
      "metadata": {
        "_uuid": "35263d5ef9da47a3aa31a2cc9227fe29ee2bbf8a"
      },
      "cell_type": "markdown",
      "source": "## Extracting data into a DataFrame"
    },
    {
      "metadata": {
        "_uuid": "ba70cda01ab2d31c02f999ce9c9a08f21338d1cf"
      },
      "cell_type": "markdown",
      "source": "A few points that we must consider:\n* data in the Postcode column is text\n* data in the Bourough & Neighbourhood columns can be either text or a hyperlink \n* if the value in Bourough is \"Not assigned\" we should skip the line\n* if the value in Neighbourhood is \"Not assigned\" (but Bourough is anything else), we should change it to the name of the Bourough\n\nWe'll extract that data from each sub-list and append them to a temporary list which we'll turn into a pandas.DataFrame."
    },
    {
      "metadata": {
        "trusted": true,
        "_uuid": "a7a3517846f10d728bd55413beb2c8ce279e73cd"
      },
      "cell_type": "code",
      "source": "data_table = []\n\n# Each element in split_table_elements contains 3 strings that represent a line in the table\n# element[0] - data from the Postcode column\n# element[1] - data from the Bourough column\n# element[2] - data from the Neighbourhood column\nfor element in split_table_elements:\n    # Extract the textual data using the .text accessor\n    postcode = element[0].text.strip()\n    bourough = element[1].text.strip()\n    neighbourhood = element[2].text.strip()\n        \n    data_table.append([postcode, bourough, neighbourhood])\n    \ndata_table[:5]",
      "execution_count": 39,
      "outputs": [
        {
          "output_type": "execute_result",
          "execution_count": 39,
          "data": {
            "text/plain": "[['M1A', 'Not assigned', 'Not assigned'],\n ['M2A', 'Not assigned', 'Not assigned'],\n ['M3A', 'North York', 'Parkwoods'],\n ['M4A', 'North York', 'Victoria Village'],\n ['M5A', 'Downtown Toronto', 'Harbourfront']]"
          },
          "metadata": {}
        }
      ]
    },
    {
      "metadata": {
        "_uuid": "0eab35a78645bc01736888e66d63f72bf21392be"
      },
      "cell_type": "markdown",
      "source": "Create the DataFrame:"
    },
    {
      "metadata": {
        "trusted": true,
        "_uuid": "484428c33c9c835c70484922b2bdb380875273eb"
      },
      "cell_type": "code",
      "source": "df = pd.DataFrame(data_table)\ndf.columns = ['Postcode', 'Bourough', 'Neighbourhood']\ndf.head()",
      "execution_count": 51,
      "outputs": [
        {
          "output_type": "execute_result",
          "execution_count": 51,
          "data": {
            "text/plain": "  Postcode          Bourough     Neighbourhood\n0      M1A      Not assigned      Not assigned\n1      M2A      Not assigned      Not assigned\n2      M3A        North York         Parkwoods\n3      M4A        North York  Victoria Village\n4      M5A  Downtown Toronto      Harbourfront",
            "text/html": "<div>\n<style scoped>\n    .dataframe tbody tr th:only-of-type {\n        vertical-align: middle;\n    }\n\n    .dataframe tbody tr th {\n        vertical-align: top;\n    }\n\n    .dataframe thead th {\n        text-align: right;\n    }\n</style>\n<table border=\"1\" class=\"dataframe\">\n  <thead>\n    <tr style=\"text-align: right;\">\n      <th></th>\n      <th>Postcode</th>\n      <th>Bourough</th>\n      <th>Neighbourhood</th>\n    </tr>\n  </thead>\n  <tbody>\n    <tr>\n      <th>0</th>\n      <td>M1A</td>\n      <td>Not assigned</td>\n      <td>Not assigned</td>\n    </tr>\n    <tr>\n      <th>1</th>\n      <td>M2A</td>\n      <td>Not assigned</td>\n      <td>Not assigned</td>\n    </tr>\n    <tr>\n      <th>2</th>\n      <td>M3A</td>\n      <td>North York</td>\n      <td>Parkwoods</td>\n    </tr>\n    <tr>\n      <th>3</th>\n      <td>M4A</td>\n      <td>North York</td>\n      <td>Victoria Village</td>\n    </tr>\n    <tr>\n      <th>4</th>\n      <td>M5A</td>\n      <td>Downtown Toronto</td>\n      <td>Harbourfront</td>\n    </tr>\n  </tbody>\n</table>\n</div>"
          },
          "metadata": {}
        }
      ]
    },
    {
      "metadata": {
        "_uuid": "f8be5c82506f02d1671ca6eaa44c16a7af9a92dc"
      },
      "cell_type": "markdown",
      "source": "## Data cleanup\nKeep only rows where the value for Bourough != \"Not assigned\""
    },
    {
      "metadata": {
        "trusted": true,
        "_uuid": "fd966c3b0d646b2334931ae36011f705fe0aa9c9"
      },
      "cell_type": "code",
      "source": "df = df.loc[df.Bourough != 'Not assigned'] # keep only rows where Bourough is not \"Not assigned\"\ndf.reset_index(inplace=True)\ndf.drop('index', axis=1, inplace=True)\ndf.head(10)",
      "execution_count": 52,
      "outputs": [
        {
          "output_type": "execute_result",
          "execution_count": 52,
          "data": {
            "text/plain": "  Postcode          Bourough     Neighbourhood\n0      M3A        North York         Parkwoods\n1      M4A        North York  Victoria Village\n2      M5A  Downtown Toronto      Harbourfront\n3      M5A  Downtown Toronto       Regent Park\n4      M6A        North York  Lawrence Heights\n5      M6A        North York    Lawrence Manor\n6      M7A      Queen's Park      Not assigned\n7      M9A         Etobicoke  Islington Avenue\n8      M1B       Scarborough             Rouge\n9      M1B       Scarborough           Malvern",
            "text/html": "<div>\n<style scoped>\n    .dataframe tbody tr th:only-of-type {\n        vertical-align: middle;\n    }\n\n    .dataframe tbody tr th {\n        vertical-align: top;\n    }\n\n    .dataframe thead th {\n        text-align: right;\n    }\n</style>\n<table border=\"1\" class=\"dataframe\">\n  <thead>\n    <tr style=\"text-align: right;\">\n      <th></th>\n      <th>Postcode</th>\n      <th>Bourough</th>\n      <th>Neighbourhood</th>\n    </tr>\n  </thead>\n  <tbody>\n    <tr>\n      <th>0</th>\n      <td>M3A</td>\n      <td>North York</td>\n      <td>Parkwoods</td>\n    </tr>\n    <tr>\n      <th>1</th>\n      <td>M4A</td>\n      <td>North York</td>\n      <td>Victoria Village</td>\n    </tr>\n    <tr>\n      <th>2</th>\n      <td>M5A</td>\n      <td>Downtown Toronto</td>\n      <td>Harbourfront</td>\n    </tr>\n    <tr>\n      <th>3</th>\n      <td>M5A</td>\n      <td>Downtown Toronto</td>\n      <td>Regent Park</td>\n    </tr>\n    <tr>\n      <th>4</th>\n      <td>M6A</td>\n      <td>North York</td>\n      <td>Lawrence Heights</td>\n    </tr>\n    <tr>\n      <th>5</th>\n      <td>M6A</td>\n      <td>North York</td>\n      <td>Lawrence Manor</td>\n    </tr>\n    <tr>\n      <th>6</th>\n      <td>M7A</td>\n      <td>Queen's Park</td>\n      <td>Not assigned</td>\n    </tr>\n    <tr>\n      <th>7</th>\n      <td>M9A</td>\n      <td>Etobicoke</td>\n      <td>Islington Avenue</td>\n    </tr>\n    <tr>\n      <th>8</th>\n      <td>M1B</td>\n      <td>Scarborough</td>\n      <td>Rouge</td>\n    </tr>\n    <tr>\n      <th>9</th>\n      <td>M1B</td>\n      <td>Scarborough</td>\n      <td>Malvern</td>\n    </tr>\n  </tbody>\n</table>\n</div>"
          },
          "metadata": {}
        }
      ]
    },
    {
      "metadata": {
        "_uuid": "67a1a44ff073f1919450a9927ecf80ca07245b80"
      },
      "cell_type": "markdown",
      "source": "Now we'll assign every Neighbourhood that is \"Not assigned\" the same value as the Bourough"
    },
    {
      "metadata": {
        "trusted": true,
        "_uuid": "a0f12a7ad3a544b0a3f2bd0715665498807a0cac"
      },
      "cell_type": "code",
      "source": "missing_neighbourhoods = df.Neighbourhood.values == 'Not assigned' # build filter\ndf.Neighbourhood[missing_neighbourhoods] = df.Bourough[missing_neighbourhoods] # preform data assignment using the filter\ndf.head(10)",
      "execution_count": 53,
      "outputs": [
        {
          "output_type": "execute_result",
          "execution_count": 53,
          "data": {
            "text/plain": "  Postcode          Bourough     Neighbourhood\n0      M3A        North York         Parkwoods\n1      M4A        North York  Victoria Village\n2      M5A  Downtown Toronto      Harbourfront\n3      M5A  Downtown Toronto       Regent Park\n4      M6A        North York  Lawrence Heights\n5      M6A        North York    Lawrence Manor\n6      M7A      Queen's Park      Queen's Park\n7      M9A         Etobicoke  Islington Avenue\n8      M1B       Scarborough             Rouge\n9      M1B       Scarborough           Malvern",
            "text/html": "<div>\n<style scoped>\n    .dataframe tbody tr th:only-of-type {\n        vertical-align: middle;\n    }\n\n    .dataframe tbody tr th {\n        vertical-align: top;\n    }\n\n    .dataframe thead th {\n        text-align: right;\n    }\n</style>\n<table border=\"1\" class=\"dataframe\">\n  <thead>\n    <tr style=\"text-align: right;\">\n      <th></th>\n      <th>Postcode</th>\n      <th>Bourough</th>\n      <th>Neighbourhood</th>\n    </tr>\n  </thead>\n  <tbody>\n    <tr>\n      <th>0</th>\n      <td>M3A</td>\n      <td>North York</td>\n      <td>Parkwoods</td>\n    </tr>\n    <tr>\n      <th>1</th>\n      <td>M4A</td>\n      <td>North York</td>\n      <td>Victoria Village</td>\n    </tr>\n    <tr>\n      <th>2</th>\n      <td>M5A</td>\n      <td>Downtown Toronto</td>\n      <td>Harbourfront</td>\n    </tr>\n    <tr>\n      <th>3</th>\n      <td>M5A</td>\n      <td>Downtown Toronto</td>\n      <td>Regent Park</td>\n    </tr>\n    <tr>\n      <th>4</th>\n      <td>M6A</td>\n      <td>North York</td>\n      <td>Lawrence Heights</td>\n    </tr>\n    <tr>\n      <th>5</th>\n      <td>M6A</td>\n      <td>North York</td>\n      <td>Lawrence Manor</td>\n    </tr>\n    <tr>\n      <th>6</th>\n      <td>M7A</td>\n      <td>Queen's Park</td>\n      <td>Queen's Park</td>\n    </tr>\n    <tr>\n      <th>7</th>\n      <td>M9A</td>\n      <td>Etobicoke</td>\n      <td>Islington Avenue</td>\n    </tr>\n    <tr>\n      <th>8</th>\n      <td>M1B</td>\n      <td>Scarborough</td>\n      <td>Rouge</td>\n    </tr>\n    <tr>\n      <th>9</th>\n      <td>M1B</td>\n      <td>Scarborough</td>\n      <td>Malvern</td>\n    </tr>\n  </tbody>\n</table>\n</div>"
          },
          "metadata": {}
        }
      ]
    },
    {
      "metadata": {
        "_uuid": "9e85c9795201b077be07faf50cd35f886c6a8f0e"
      },
      "cell_type": "markdown",
      "source": "Notice: line 6 in the last table has changed compared to the preceding table. Neighbourhood column now contains \"Queen's Park\" instead of \"Not assigned\""
    },
    {
      "metadata": {
        "_uuid": "b245313d6f15ee4e860cfd70b1c891b58b7cbd6d"
      },
      "cell_type": "markdown",
      "source": "## Building the final DataFrame\nLastly, we'll build a DataFrame, where each Postcode appears only once. \n\nThe value under Neighbourhood for each line is a list of Neighbourhoods in that Bourough."
    },
    {
      "metadata": {
        "trusted": true,
        "scrolled": true,
        "_uuid": "3835071ca78e9155c685ca7c723a913a1b495392"
      },
      "cell_type": "code",
      "source": "final_df = pd.DataFrame(columns=['Postcode', 'Bourough', 'Neighbourhood'])\n\n# Loop over unique postcodes\nfor pc in df.Postcode.unique():\n    # Extract the Bourough name\n    bourough = df.loc[df.Postcode == pc].Bourough.values[0]\n    # Extract the Neighbourhoods in the Bourough and join them into a list\n    hoods = ', '.join(df.loc[df.Postcode == pc].Neighbourhood.values.tolist())\n    \n    # Append line to the DataFrame\n    final_df = final_df.append({'Postcode': pc,\n                                'Bourough': bourough,\n                                'Neighbourhood': hoods}, ignore_index=True)\n\nfinal_df.reset_index(inplace=True)\nfinal_df.drop('index', axis=1, inplace=True)\nfinal_df.head(10)",
      "execution_count": 54,
      "outputs": [
        {
          "output_type": "execute_result",
          "execution_count": 54,
          "data": {
            "text/plain": "  Postcode                ...                                    Neighbourhood\n0      M3A                ...                                        Parkwoods\n1      M4A                ...                                 Victoria Village\n2      M5A                ...                        Harbourfront, Regent Park\n3      M6A                ...                 Lawrence Heights, Lawrence Manor\n4      M7A                ...                                     Queen's Park\n5      M9A                ...                                 Islington Avenue\n6      M1B                ...                                   Rouge, Malvern\n7      M3B                ...                                  Don Mills North\n8      M4B                ...                  Woodbine Gardens, Parkview Hill\n9      M5B                ...                         Ryerson, Garden District\n\n[10 rows x 3 columns]",
            "text/html": "<div>\n<style scoped>\n    .dataframe tbody tr th:only-of-type {\n        vertical-align: middle;\n    }\n\n    .dataframe tbody tr th {\n        vertical-align: top;\n    }\n\n    .dataframe thead th {\n        text-align: right;\n    }\n</style>\n<table border=\"1\" class=\"dataframe\">\n  <thead>\n    <tr style=\"text-align: right;\">\n      <th></th>\n      <th>Postcode</th>\n      <th>Bourough</th>\n      <th>Neighbourhood</th>\n    </tr>\n  </thead>\n  <tbody>\n    <tr>\n      <th>0</th>\n      <td>M3A</td>\n      <td>North York</td>\n      <td>Parkwoods</td>\n    </tr>\n    <tr>\n      <th>1</th>\n      <td>M4A</td>\n      <td>North York</td>\n      <td>Victoria Village</td>\n    </tr>\n    <tr>\n      <th>2</th>\n      <td>M5A</td>\n      <td>Downtown Toronto</td>\n      <td>Harbourfront, Regent Park</td>\n    </tr>\n    <tr>\n      <th>3</th>\n      <td>M6A</td>\n      <td>North York</td>\n      <td>Lawrence Heights, Lawrence Manor</td>\n    </tr>\n    <tr>\n      <th>4</th>\n      <td>M7A</td>\n      <td>Queen's Park</td>\n      <td>Queen's Park</td>\n    </tr>\n    <tr>\n      <th>5</th>\n      <td>M9A</td>\n      <td>Etobicoke</td>\n      <td>Islington Avenue</td>\n    </tr>\n    <tr>\n      <th>6</th>\n      <td>M1B</td>\n      <td>Scarborough</td>\n      <td>Rouge, Malvern</td>\n    </tr>\n    <tr>\n      <th>7</th>\n      <td>M3B</td>\n      <td>North York</td>\n      <td>Don Mills North</td>\n    </tr>\n    <tr>\n      <th>8</th>\n      <td>M4B</td>\n      <td>East York</td>\n      <td>Woodbine Gardens, Parkview Hill</td>\n    </tr>\n    <tr>\n      <th>9</th>\n      <td>M5B</td>\n      <td>Downtown Toronto</td>\n      <td>Ryerson, Garden District</td>\n    </tr>\n  </tbody>\n</table>\n</div>"
          },
          "metadata": {}
        }
      ]
    },
    {
      "metadata": {
        "trusted": true,
        "_uuid": "616806e19896ba3f12bd0c2085257454220269f0"
      },
      "cell_type": "code",
      "source": "final_df.shape",
      "execution_count": 55,
      "outputs": [
        {
          "output_type": "execute_result",
          "execution_count": 55,
          "data": {
            "text/plain": "(103, 3)"
          },
          "metadata": {}
        }
      ]
    }
  ],
  "metadata": {
    "kernelspec": {
      "display_name": "Python 3",
      "language": "python",
      "name": "python3"
    },
    "language_info": {
      "name": "python",
      "version": "3.6.6",
      "mimetype": "text/x-python",
      "codemirror_mode": {
        "name": "ipython",
        "version": 3
      },
      "pygments_lexer": "ipython3",
      "nbconvert_exporter": "python",
      "file_extension": ".py"
    }
  },
  "nbformat": 4,
  "nbformat_minor": 1
}