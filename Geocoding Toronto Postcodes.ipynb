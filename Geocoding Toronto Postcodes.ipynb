{
  "cells": [
    {
      "metadata": {
        "_uuid": "8f2839f25d086af736a60e9eeb907d3b93b6e0e5",
        "_cell_guid": "b1076dfc-b9ad-4769-8c92-a6c4dae69d19",
        "trusted": true
      },
      "cell_type": "code",
      "source": "import numpy as np # linear algebra\nimport pandas as pd # data processing, CSV file I/O (e.g. pd.read_csv)\n#from geopy.geocoders import Nominatim # convert an address into latitude and longitude values\nimport geocoder # import geocoder",
      "execution_count": 1,
      "outputs": []
    },
    {
      "metadata": {
        "_uuid": "d211d50434cd688ffa4772e6bfd22c76abfe89d6"
      },
      "cell_type": "markdown",
      "source": "Load DataFrame we scraped from Wikipedia"
    },
    {
      "metadata": {
        "_cell_guid": "79c7e3d0-c299-4dcb-8224-4455121ee9b0",
        "_uuid": "d629ff2d2480ee46fbb7e2d37f6b5fab8052498a",
        "trusted": true
      },
      "cell_type": "code",
      "source": "df = pd.read_csv('../input/Toronto Postcodes.csv', usecols=['Postcode', 'Bourough', 'Neighbourhood'])\ndf.head()",
      "execution_count": 2,
      "outputs": [
        {
          "output_type": "execute_result",
          "execution_count": 2,
          "data": {
            "text/plain": "  Postcode                ...                                    Neighbourhood\n0      M3A                ...                                        Parkwoods\n1      M4A                ...                                 Victoria Village\n2      M5A                ...                        Harbourfront, Regent Park\n3      M6A                ...                 Lawrence Heights, Lawrence Manor\n4      M7A                ...                                     Queen's Park\n\n[5 rows x 3 columns]",
            "text/html": "<div>\n<style scoped>\n    .dataframe tbody tr th:only-of-type {\n        vertical-align: middle;\n    }\n\n    .dataframe tbody tr th {\n        vertical-align: top;\n    }\n\n    .dataframe thead th {\n        text-align: right;\n    }\n</style>\n<table border=\"1\" class=\"dataframe\">\n  <thead>\n    <tr style=\"text-align: right;\">\n      <th></th>\n      <th>Postcode</th>\n      <th>Bourough</th>\n      <th>Neighbourhood</th>\n    </tr>\n  </thead>\n  <tbody>\n    <tr>\n      <th>0</th>\n      <td>M3A</td>\n      <td>North York</td>\n      <td>Parkwoods</td>\n    </tr>\n    <tr>\n      <th>1</th>\n      <td>M4A</td>\n      <td>North York</td>\n      <td>Victoria Village</td>\n    </tr>\n    <tr>\n      <th>2</th>\n      <td>M5A</td>\n      <td>Downtown Toronto</td>\n      <td>Harbourfront, Regent Park</td>\n    </tr>\n    <tr>\n      <th>3</th>\n      <td>M6A</td>\n      <td>North York</td>\n      <td>Lawrence Heights, Lawrence Manor</td>\n    </tr>\n    <tr>\n      <th>4</th>\n      <td>M7A</td>\n      <td>Queen's Park</td>\n      <td>Queen's Park</td>\n    </tr>\n  </tbody>\n</table>\n</div>"
          },
          "metadata": {}
        }
      ]
    },
    {
      "metadata": {
        "_uuid": "0cd22219190d36aafce6c6cf195bb1b11d04b567"
      },
      "cell_type": "markdown",
      "source": "Now we'll query ArcGIS for latitude and longtitude data."
    },
    {
      "metadata": {
        "trusted": true,
        "_uuid": "dc0e73a5f93cc5302c87f28ff0c1ece9715b15aa"
      },
      "cell_type": "code",
      "source": "# accepts a list of postcodes in Toronto, Ontario and returns a DataFrame\n# with Postcode, Latitude, Longtitude as columns\n# each line in the DataFrame represents one postcode\ndef batch_get_lat_lng(postcodes):\n    df = pd.DataFrame(columns=['Postcode', 'Latitude', 'Longitude'])\n    \n    for code in postcodes:\n        lat_lng_coords = None\n        while(lat_lng_coords is None):\n            g = geocoder.arcgis('{}, Toronto, Ontario'.format(code))\n            lat_lng_coords = g.latlng\n\n        df = df.append({'Postcode': code,\n                        'Latitude': lat_lng_coords[0],\n                        'Longitude': lat_lng_coords[1]},\n                       ignore_index=True)\n    \n    return df",
      "execution_count": 13,
      "outputs": []
    },
    {
      "metadata": {
        "trusted": true,
        "_uuid": "263632b262f1642f9ed8ac2ab4e46d498067e87a"
      },
      "cell_type": "code",
      "source": "coords_df = batch_get_lat_lng(df.Postcode)",
      "execution_count": 8,
      "outputs": []
    },
    {
      "metadata": {
        "trusted": true,
        "_uuid": "915b1d040b5f34320c877f9fa70b46d3dccda02b"
      },
      "cell_type": "code",
      "source": "coords_df.head()",
      "execution_count": 6,
      "outputs": [
        {
          "output_type": "execute_result",
          "execution_count": 6,
          "data": {
            "text/plain": "  Postcode   Latitude  Longitude\n0      M3A  43.752435 -79.329268\n1      M4A  43.730417 -79.313340\n2      M5A  43.655120 -79.362640\n3      M6A  43.723270 -79.451603\n4      M7A  43.661072 -79.390895",
            "text/html": "<div>\n<style scoped>\n    .dataframe tbody tr th:only-of-type {\n        vertical-align: middle;\n    }\n\n    .dataframe tbody tr th {\n        vertical-align: top;\n    }\n\n    .dataframe thead th {\n        text-align: right;\n    }\n</style>\n<table border=\"1\" class=\"dataframe\">\n  <thead>\n    <tr style=\"text-align: right;\">\n      <th></th>\n      <th>Postcode</th>\n      <th>Latitude</th>\n      <th>Longitude</th>\n    </tr>\n  </thead>\n  <tbody>\n    <tr>\n      <th>0</th>\n      <td>M3A</td>\n      <td>43.752435</td>\n      <td>-79.329268</td>\n    </tr>\n    <tr>\n      <th>1</th>\n      <td>M4A</td>\n      <td>43.730417</td>\n      <td>-79.313340</td>\n    </tr>\n    <tr>\n      <th>2</th>\n      <td>M5A</td>\n      <td>43.655120</td>\n      <td>-79.362640</td>\n    </tr>\n    <tr>\n      <th>3</th>\n      <td>M6A</td>\n      <td>43.723270</td>\n      <td>-79.451603</td>\n    </tr>\n    <tr>\n      <th>4</th>\n      <td>M7A</td>\n      <td>43.661072</td>\n      <td>-79.390895</td>\n    </tr>\n  </tbody>\n</table>\n</div>"
          },
          "metadata": {}
        }
      ]
    },
    {
      "metadata": {
        "_uuid": "d030f6d4d4bf03524091ad0ad4a8f2217941a4a4"
      },
      "cell_type": "markdown",
      "source": "Now let's merge the two DataFrames using the Postcode column."
    },
    {
      "metadata": {
        "trusted": true,
        "_uuid": "35f325a8a2345a8d8580efda0e6cdf1abf8d16d9"
      },
      "cell_type": "code",
      "source": "df = pd.merge(left=df, right=coords_df, left_on='Postcode', right_on='Postcode')",
      "execution_count": 11,
      "outputs": []
    },
    {
      "metadata": {
        "trusted": true,
        "_uuid": "4d081328539c4d0f511e2d880c1bd6bd59f60c32"
      },
      "cell_type": "code",
      "source": "df.head()",
      "execution_count": 12,
      "outputs": [
        {
          "output_type": "execute_result",
          "execution_count": 12,
          "data": {
            "text/plain": "  Postcode          Bourough    ...       Latitude  Longitude\n0      M3A        North York    ...      43.752435 -79.329268\n1      M4A        North York    ...      43.730417 -79.313340\n2      M5A  Downtown Toronto    ...      43.655120 -79.362640\n3      M6A        North York    ...      43.723270 -79.451603\n4      M7A      Queen's Park    ...      43.661072 -79.390895\n\n[5 rows x 5 columns]",
            "text/html": "<div>\n<style scoped>\n    .dataframe tbody tr th:only-of-type {\n        vertical-align: middle;\n    }\n\n    .dataframe tbody tr th {\n        vertical-align: top;\n    }\n\n    .dataframe thead th {\n        text-align: right;\n    }\n</style>\n<table border=\"1\" class=\"dataframe\">\n  <thead>\n    <tr style=\"text-align: right;\">\n      <th></th>\n      <th>Postcode</th>\n      <th>Bourough</th>\n      <th>Neighbourhood</th>\n      <th>Latitude</th>\n      <th>Longitude</th>\n    </tr>\n  </thead>\n  <tbody>\n    <tr>\n      <th>0</th>\n      <td>M3A</td>\n      <td>North York</td>\n      <td>Parkwoods</td>\n      <td>43.752435</td>\n      <td>-79.329268</td>\n    </tr>\n    <tr>\n      <th>1</th>\n      <td>M4A</td>\n      <td>North York</td>\n      <td>Victoria Village</td>\n      <td>43.730417</td>\n      <td>-79.313340</td>\n    </tr>\n    <tr>\n      <th>2</th>\n      <td>M5A</td>\n      <td>Downtown Toronto</td>\n      <td>Harbourfront, Regent Park</td>\n      <td>43.655120</td>\n      <td>-79.362640</td>\n    </tr>\n    <tr>\n      <th>3</th>\n      <td>M6A</td>\n      <td>North York</td>\n      <td>Lawrence Heights, Lawrence Manor</td>\n      <td>43.723270</td>\n      <td>-79.451603</td>\n    </tr>\n    <tr>\n      <th>4</th>\n      <td>M7A</td>\n      <td>Queen's Park</td>\n      <td>Queen's Park</td>\n      <td>43.661072</td>\n      <td>-79.390895</td>\n    </tr>\n  </tbody>\n</table>\n</div>"
          },
          "metadata": {}
        }
      ]
    },
    {
      "metadata": {
        "trusted": true,
        "_uuid": "baabf40f7d70338803012eef7daf4c8ecf76718d"
      },
      "cell_type": "code",
      "source": "df.to_csv('Toronto Postcodes and coordinates')",
      "execution_count": 14,
      "outputs": []
    },
    {
      "metadata": {
        "trusted": true,
        "_uuid": "835420102e127a4af64c6625774faddb05ee96ea"
      },
      "cell_type": "code",
      "source": "",
      "execution_count": null,
      "outputs": []
    }
  ],
  "metadata": {
    "kernelspec": {
      "display_name": "Python 3",
      "language": "python",
      "name": "python3"
    },
    "language_info": {
      "name": "python",
      "version": "3.6.6",
      "mimetype": "text/x-python",
      "codemirror_mode": {
        "name": "ipython",
        "version": 3
      },
      "pygments_lexer": "ipython3",
      "nbconvert_exporter": "python",
      "file_extension": ".py"
    }
  },
  "nbformat": 4,
  "nbformat_minor": 1
}